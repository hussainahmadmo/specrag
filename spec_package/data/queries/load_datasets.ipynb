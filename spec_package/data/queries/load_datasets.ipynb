{
 "cells": [
  {
   "cell_type": "code",
   "execution_count": 2,
   "metadata": {},
   "outputs": [
    {
     "name": "stdout",
     "output_type": "stream",
     "text": [
      "\n",
      "Loading dataset: musique...\n",
      "✅ Loaded musique successfully! Number of samples: 200\n"
     ]
    }
   ],
   "source": [
    "from datasets import load_dataset\n",
    "\n",
    "datasets = [\"musique\"]\n",
    "\n",
    "for dataset in datasets:\n",
    "    try:\n",
    "        print(f\"\\nLoading dataset: {dataset}...\")\n",
    "        data = load_dataset('THUDM/LongBench', dataset, split='test')\n",
    "        print(f\"✅ Loaded {dataset} successfully! Number of samples: {len(data)}\")\n",
    "    except Exception as e:\n",
    "        print(f\"❌ Failed to load {dataset}: {e}\")"
   ]
  },
  {
   "cell_type": "code",
   "execution_count": null,
   "metadata": {},
   "outputs": [],
   "source": [
    "print(musique/)"
   ]
  }
 ],
 "metadata": {
  "kernelspec": {
   "display_name": "kvenv",
   "language": "python",
   "name": "python3"
  },
  "language_info": {
   "codemirror_mode": {
    "name": "ipython",
    "version": 3
   },
   "file_extension": ".py",
   "mimetype": "text/x-python",
   "name": "python",
   "nbconvert_exporter": "python",
   "pygments_lexer": "ipython3",
   "version": "3.10.16"
  }
 },
 "nbformat": 4,
 "nbformat_minor": 2
}
